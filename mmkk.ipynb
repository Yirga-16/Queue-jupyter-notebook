{
 "cells": [
  {
   "cell_type": "markdown",
   "id": "140fb249",
   "metadata": {},
   "source": [
    "# 01 - the random library\n",
    "\n",
    "1. Make sure to use Python 3, not 2.\n",
    "2. For full documentation, see https://docs.python.org/3/library/random.html\n"
   ]
  },
  {
   "cell_type": "code",
   "execution_count": 1,
   "id": "5689caad",
   "metadata": {
    "ExecuteTime": {
     "end_time": "2022-02-26T03:18:20.901400Z",
     "start_time": "2022-02-26T03:18:20.875401Z"
    }
   },
   "outputs": [
    {
     "name": "stdout",
     "output_type": "stream",
     "text": [
      "Uniformly distributed random variate between 0 (inclusive) and 1 (exclusive): 0.13436424411240122\n",
      "Random ordering of 0..5: [0, 2, 5, 1, 4, 3]\n",
      "Random coin flip: tails\n",
      "Random coin flip: ['T', 'H', 'H', 'T', 'H', 'T', 'H', 'H', 'T', 'H']\n",
      "Exponential random variates with mean 0.25: 0.7263389956826974 0.5792406327290851 0.007766905615767414 0.0064438014753491315\n",
      "Exponential random variates with mean 4: 3.118416425887186 11.19731880347099 1.9199200341692508 0.9764443527828108\n"
     ]
    }
   ],
   "source": [
    "import random\n",
    "\n",
    "# Set the random seed for the same results each time\n",
    "random.seed(1)\n",
    "print(\"Uniformly distributed random variate between 0 (inclusive) and 1 (exclusive):\", random.random())\n",
    "\n",
    "# sample(seq,k) chooses k samples from seq without replacement\n",
    "print(\"Random ordering of 0..5:\", random.sample(range(6),6))\n",
    "\n",
    "# Random coin flip\n",
    "print(\"Random coin flip:\", random.choice(['heads', 'tails']))\n",
    "\n",
    "# Random sequence of 10 coin flips\n",
    "# choices(seq,k) chooses k samples from seq with replacement\n",
    "print(\"Random coin flip:\", random.choices(['H', 'T'], k=10))\n",
    "\n",
    "# Exponential distribution\n",
    "print(\"Exponential random variates with mean 0.25:\",\n",
    "      random.expovariate(4),\n",
    "      random.expovariate(4),\n",
    "      random.expovariate(4),\n",
    "      random.expovariate(4))\n",
    "print(\"Exponential random variates with mean 4:\",\n",
    "      random.expovariate(1/4),\n",
    "      random.expovariate(1/4),\n",
    "      random.expovariate(1/4),\n",
    "      random.expovariate(1/4))"
   ]
  },
  {
   "cell_type": "markdown",
   "id": "883caee4",
   "metadata": {},
   "source": [
    "# 02 - A Poisson process in simpy\n",
    "\n",
    "\n",
    "A Poisson process is defined by three conditions:\n",
    "1. The cumulative number of events at time 0 is zero.\n",
    "2. The number of events in two disjoint intervals are independent.\n",
    "3. The number of events in an interval of length t is a Poisson\n",
    "   random variable with mean lambd*t (we would use lambda but\n",
    "   that is a reserved keyword in Python).\n",
    "We use the fact that inter-arrivals in a Poisson process are\n",
    "independent and exponentially distributed with mean 1/lambd.\n"
   ]
  },
  {
   "cell_type": "code",
   "execution_count": 2,
   "id": "84b55090",
   "metadata": {
    "ExecuteTime": {
     "end_time": "2022-02-26T03:18:20.933428Z",
     "start_time": "2022-02-26T03:18:20.903402Z"
    }
   },
   "outputs": [
    {
     "name": "stdout",
     "output_type": "stream",
     "text": [
      "arr time\n",
      "1 0.5483831185108635\n",
      "2 0.5778539358253091\n",
      "3 0.8284864532970078\n",
      "4 1.4045398910871323\n",
      "5 2.089346434431785\n",
      "6 2.3547250227469223\n",
      "7 2.6172157992199994\n",
      "8 2.864115605732936\n",
      "9 3.4795676919318552\n",
      "10 3.821750463089402\n",
      "11 3.843474434356577\n",
      "12 5.661031676965104\n",
      "13 6.47398616660909\n",
      "14 7.502031040245637\n",
      "15 7.707710807391278\n",
      "16 12.606368173050699\n",
      "17 14.572099165166467\n",
      "18 14.700944366364546\n",
      "19 15.105452710357694\n",
      "20 16.38373394440603\n",
      "21 17.62572631849052\n"
     ]
    }
   ],
   "source": [
    "import simpy\n",
    "import random\n",
    "\n",
    "# Poisson process generator\n",
    "def generator(env, lambd):\n",
    "    nArrivals = 0\n",
    "    while True:\n",
    "        yield env.timeout(random.expovariate(lambd))\n",
    "        nArrivals += 1\n",
    "        print(nArrivals, env.now)\n",
    "\n",
    "env = simpy.Environment()\n",
    "env.process(generator(env, 1))\n",
    "print('arr','time')\n",
    "env.run(until=20)"
   ]
  },
  {
   "cell_type": "markdown",
   "id": "3e3c6f20",
   "metadata": {},
   "source": [
    "# 03 - An M/M/k queue with abandonment in simpy\n",
    "\n",
    "\n",
    "An M/M/k queue has Poisson arrivals, exponentially distributed\n",
    "service times, and k servers.  Requests will remain in the queue\n",
    "until served or until some exponentially distributed 'patience'\n",
    "time has elapsed.\n",
    "\n",
    "Note that queueing systems with Poisson arrivals exhibit the\n",
    "\"PASTA\" property (Poisson arrivals see time averages).  For example,\n",
    "the mean queue length seen by new arrivals (excluding the new arrival)\n",
    "is the mean queue length over time.\n",
    "For a regular M/M/k queue, set the patience paramter to float('inf').\n",
    "See Section 9 of the Zukerman textbook\n",
    "(http://www.ee.cityu.edu.hk/~zukerman/classnotes.pdf)\n",
    "for more on the M/M/k queue, including formulas for the mean wait time\n",
    "and mean buffer length.\n",
    "\n",
    "Parameters:\n",
    "lambd - arrival rate (again we would use lambda but it is a reserved\n",
    "        keyword in Python\n",
    "tau   - mean service rate\n",
    "patience - mean request patience\n"
   ]
  },
  {
   "cell_type": "code",
   "execution_count": 3,
   "id": "ebdbf2ed",
   "metadata": {
    "ExecuteTime": {
     "end_time": "2022-02-26T03:18:23.471409Z",
     "start_time": "2022-02-26T03:18:20.935402Z"
    }
   },
   "outputs": [
    {
     "name": "stdout",
     "output_type": "stream",
     "text": [
      "Requirement already satisfied: runstats in c:\\users\\ee214-6\\appdata\\local\\programs\\python\\python310\\lib\\site-packages (2.0.0)\n"
     ]
    }
   ],
   "source": [
    "!pip install runstats"
   ]
  },
  {
   "cell_type": "code",
   "execution_count": 4,
   "id": "cdbe8f92",
   "metadata": {
    "ExecuteTime": {
     "end_time": "2022-02-26T03:18:58.581156Z",
     "start_time": "2022-02-26T03:18:23.475401Z"
    }
   },
   "outputs": [
    {
     "name": "stdout",
     "output_type": "stream",
     "text": [
      "100000 arrivals at time 11132.770495643414\n",
      "200000 arrivals at time 22262.093186430448\n",
      "300000 arrivals at time 33369.4299266081\n",
      "400000 arrivals at time 44425.111519888414\n",
      "500000 arrivals at time 55521.51578011671\n",
      "600000 arrivals at time 66582.92667769705\n",
      "700000 arrivals at time 77715.58765019113\n",
      "800000 arrivals at time 88816.74031536843\n",
      "900000 arrivals at time 99906.74645970738\n",
      "Abandonment rate: 0.14262338939663222\n",
      "Mean wait of served/in service requests: 0.00753982406723493\n",
      "Mean wait of abandoned requests: 0.054739532260458905\n",
      "Mean wait of all requests: 0.014271606428284475\n",
      "Mean buffer length: 0.12873059977110193\n"
     ]
    }
   ],
   "source": [
    "import simpy\n",
    "import random\n",
    "from runstats import Statistics\n",
    "\n",
    "class SimStats:\n",
    "    def __init__(self):\n",
    "        self.nArrived = 0\n",
    "        self.nAbandoned = 0\n",
    "        self.wait = Statistics() # wait of requests that do not abandon\n",
    "        self.waitAbandoned = Statistics() # wait of requests that do abandon\n",
    "        self.waitAll = Statistics() # wait of all requests\n",
    "        self.bufferLen = Statistics() # queue buffer length seen by new requests\n",
    "\n",
    "# Poisson process generator\n",
    "def generator(env, stats, q, lambd, tau, patience):\n",
    "    while True:\n",
    "        yield env.timeout(random.expovariate(lambd))\n",
    "        r = request(env,\n",
    "                    stats,\n",
    "                    q,\n",
    "                    serviceTime = random.expovariate(1/tau),\n",
    "                    patience = random.expovariate(1/patience))\n",
    "        env.process(r)\n",
    "\n",
    "# Request handling\n",
    "def request(env, stats, q, serviceTime, patience):\n",
    "    stats.nArrived += 1\n",
    "    if (stats.nArrived % 100_000 == 0):\n",
    "        print(stats.nArrived,'arrivals at time',env.now)\n",
    "    arrTime = env.now\n",
    "\n",
    "    # q.users returns requests in service, q.queue returns requests in the buffer\n",
    "    stats.bufferLen.push(len(q.queue))\n",
    "\n",
    "    with q.request() as req:\n",
    "        results = yield req | env.timeout(patience)\n",
    "        t = env.now - arrTime\n",
    "        stats.waitAll.push(t)\n",
    "\n",
    "        if req in results: # we got service\n",
    "            stats.wait.push(t)\n",
    "            yield env.timeout(serviceTime)\n",
    "\n",
    "        else: # we abandoned\n",
    "            stats.waitAbandoned.push(t)\n",
    "            stats.nAbandoned += 1\n",
    "\n",
    "        # resource unit automatically released here\n",
    "\n",
    "env = simpy.Environment()\n",
    "stats = SimStats()\n",
    "q = simpy.Resource(env, capacity = 10)\n",
    "env.process(generator(env, stats, q, lambd = 9, tau = 1, patience = 0.1))\n",
    "env.run(until=100_000)\n",
    "\n",
    "print('Abandonment rate:', stats.nAbandoned/stats.nArrived)\n",
    "print('Mean wait of served/in service requests:', stats.wait.mean())\n",
    "print('Mean wait of abandoned requests:', stats.waitAbandoned.mean())\n",
    "print('Mean wait of all requests:', stats.waitAll.mean())\n",
    "print('Mean buffer length:', stats.bufferLen.mean())"
   ]
  },
  {
   "cell_type": "code",
   "execution_count": null,
   "id": "1947dc39",
   "metadata": {},
   "outputs": [],
   "source": []
  },
  {
   "cell_type": "markdown",
   "id": "e1debd1a",
   "metadata": {},
   "source": [
    "# 04 -  M/M/k/k queue and the Erlang B formula\n",
    "\n",
    "An M/M/k/k queue has Poisson arrivals, exponentially\n",
    "distributed service times, k servers, and no buffer.\n",
    "Any request that cannot receive service upon arrival\n",
    "is immediately blocked and cleared from the queue.\n",
    "The request blocking probability can be computed exactly\n",
    "using the Erlang B formula.\n"
   ]
  },
  {
   "cell_type": "code",
   "execution_count": 5,
   "id": "f8761300",
   "metadata": {
    "ExecuteTime": {
     "end_time": "2022-02-26T03:18:58.596156Z",
     "start_time": "2022-02-26T03:18:58.583158Z"
    }
   },
   "outputs": [],
   "source": [
    "import simpy\n",
    "import random"
   ]
  },
  {
   "cell_type": "code",
   "execution_count": 6,
   "id": "c6e644c8",
   "metadata": {
    "ExecuteTime": {
     "end_time": "2022-02-26T03:18:58.611164Z",
     "start_time": "2022-02-26T03:18:58.598158Z"
    }
   },
   "outputs": [],
   "source": [
    "class SimStats:\n",
    "    def __init__(self):\n",
    "        self.nArrived = 0\n",
    "        self.nBlocked = 0"
   ]
  },
  {
   "cell_type": "code",
   "execution_count": 7,
   "id": "bbbd94c7",
   "metadata": {
    "ExecuteTime": {
     "end_time": "2022-02-26T03:18:58.627154Z",
     "start_time": "2022-02-26T03:18:58.614158Z"
    }
   },
   "outputs": [],
   "source": [
    "# Poisson process generator\n",
    "def generator(env, stats, q, lambd, tau):\n",
    "    while True:\n",
    "        yield env.timeout(random.expovariate(lambd))\n",
    "        r = request(env, stats, q,\n",
    "                    serviceTime = random.expovariate(1/tau))\n",
    "        env.process(r)"
   ]
  },
  {
   "cell_type": "code",
   "execution_count": 8,
   "id": "0e345d7c",
   "metadata": {
    "ExecuteTime": {
     "end_time": "2022-02-26T03:18:58.642156Z",
     "start_time": "2022-02-26T03:18:58.629166Z"
    }
   },
   "outputs": [],
   "source": [
    "# Request handling\n",
    "def request(env, stats, q, serviceTime):\n",
    "    stats.nArrived += 1\n",
    "    #if (stats.nArrived % 100_000 == 0):\n",
    "        #print(stats.nArrived,'arrivals at time',env.now)\n",
    "    arrTime = env.now\n",
    "\n",
    "    if q.count < q.capacity:\n",
    "        with q.request() as req:\n",
    "            yield req # get the resource\n",
    "            yield env.timeout(serviceTime) # hold the resource for the specified time\n",
    "            # resource automatically released at end of \"with\" block\n",
    "    else:\n",
    "        stats.nBlocked += 1"
   ]
  },
  {
   "cell_type": "code",
   "execution_count": 9,
   "id": "4a426dd5",
   "metadata": {
    "ExecuteTime": {
     "end_time": "2022-02-26T03:18:58.657154Z",
     "start_time": "2022-02-26T03:18:58.644156Z"
    }
   },
   "outputs": [],
   "source": [
    "def erlangB(load,nServers):\n",
    "    inv = 1\n",
    "    for m in range(1,nServers+1): # range does not include the last number, so we need to add 1\n",
    "        inv = 1 + m/load * inv\n",
    "    return 1/inv"
   ]
  },
  {
   "cell_type": "code",
   "execution_count": 10,
   "id": "992b135c",
   "metadata": {
    "ExecuteTime": {
     "end_time": "2022-02-26T03:19:16.256156Z",
     "start_time": "2022-02-26T03:18:58.660158Z"
    }
   },
   "outputs": [
    {
     "name": "stdout",
     "output_type": "stream",
     "text": [
      "Blocking probability: 0.16737626751434\n",
      "Exact solution: 0.16796322629158644\n"
     ]
    }
   ],
   "source": [
    "if __name__ == \"__main__\":\n",
    "    lambd = 9\n",
    "    tau = 1\n",
    "\n",
    "    env = simpy.Environment()\n",
    "    stats = SimStats()\n",
    "    q = simpy.Resource(env, capacity = 10)\n",
    "    env.process(generator(env, stats, q, lambd, tau))\n",
    "    env.run(until=100_000)\n",
    "\n",
    "    print('Blocking probability:', stats.nBlocked/stats.nArrived)\n",
    "    print('Exact solution:', erlangB(lambd*tau, q.capacity))"
   ]
  },
  {
   "cell_type": "markdown",
   "id": "fce06485",
   "metadata": {},
   "source": [
    "# 05 - Confidence intervals\n",
    "\n",
    "\n",
    "If we assume that a particular distribution is normal, then\n",
    "the Student's t-distribution can be used to compute\n",
    "the confidence interval for the mean of the distribution.\n",
    "\n",
    "A n% confidence interval means that the\n",
    "true mean of a distribution falls within the\n",
    "computed confidence interval with an estimated 95%\n",
    "probability.\n",
    "\n",
    "Confidence intervals are often used to describe the\n",
    "uncertainty in sampled values such as survey data\n",
    "or simulation results.\n"
   ]
  },
  {
   "cell_type": "code",
   "execution_count": 11,
   "id": "5fe8c370",
   "metadata": {
    "ExecuteTime": {
     "end_time": "2022-02-26T03:19:20.658154Z",
     "start_time": "2022-02-26T03:19:16.259160Z"
    }
   },
   "outputs": [
    {
     "name": "stdout",
     "output_type": "stream",
     "text": [
      "Proportion of tests where the 95% confidence interval includes the true mean: 0.9502\n"
     ]
    }
   ],
   "source": [
    "import numpy as np\n",
    "import scipy.stats as st\n",
    "\n",
    "def ci(data):\n",
    "    return st.t.interval(alpha=0.95, df=len(data)-1, loc=np.mean(data), scale=st.sem(data))\n",
    "\n",
    "def between(x,ci):\n",
    "    return x >= ci[0] and x <= ci[1]\n",
    "\n",
    "def test(mu,sigma):\n",
    "    # mu and sigma are the true mean and sample deviation\n",
    "\n",
    "    # empirical means\n",
    "    m = np.empty(10)\n",
    "\n",
    "    # generate distributions\n",
    "    for i in range(10):\n",
    "        s = np.random.normal(mu, sigma, 10)\n",
    "        m[i] = np.mean(s)\n",
    "\n",
    "    # Is the true mean within the C.I. of the empirical means (m)?\n",
    "    return between(mu, ci(m))\n",
    "\n",
    "if __name__ == \"__main__\":\n",
    "    count = 0\n",
    "    nTests = 10000\n",
    "\n",
    "    for x in range(nTests):\n",
    "        if test(0,1):\n",
    "            count += 1\n",
    "    print('Proportion of tests where the 95% confidence interval includes the true mean:', count/nTests)"
   ]
  },
  {
   "cell_type": "markdown",
   "id": "2bab1edb",
   "metadata": {
    "ExecuteTime": {
     "end_time": "2022-02-26T02:18:26.144040Z",
     "start_time": "2022-02-26T02:18:26.133039Z"
    }
   },
   "source": [
    "# 06 - M/D/k/k queue\n",
    "\n",
    "\n",
    "The M/D/k/k queue is similar to the M/M/k/k queue from Example 4,\n",
    "except the service times are now constant (deterministic) rather\n",
    "than random.\n"
   ]
  },
  {
   "cell_type": "code",
   "execution_count": 12,
   "id": "66fdcfed",
   "metadata": {
    "ExecuteTime": {
     "end_time": "2022-02-26T03:19:37.218154Z",
     "start_time": "2022-02-26T03:19:20.659156Z"
    }
   },
   "outputs": [
    {
     "name": "stdout",
     "output_type": "stream",
     "text": [
      "Blocking probability: 0.16801675403832508\n",
      "Exact solution: 0.16796322629158644\n"
     ]
    }
   ],
   "source": [
    "import simpy\n",
    "import random\n",
    "\n",
    "class SimStats:\n",
    "    def __init__(self):\n",
    "        self.nArrived = 0\n",
    "        self.nBlocked = 0\n",
    "\n",
    "# Poisson process generator\n",
    "def generator(env, stats, q, lambd, tau):\n",
    "    while True:\n",
    "        yield env.timeout(random.expovariate(lambd))\n",
    "        r = request(env, stats, q,\n",
    "                    serviceTime = 1/tau)\n",
    "        env.process(r)\n",
    "\n",
    "# Request handling\n",
    "def request(env, stats, q, serviceTime):\n",
    "    stats.nArrived += 1\n",
    "    #if (stats.nArrived % 100_000 == 0):\n",
    "        #print(stats.nArrived,'arrivals at time',env.now)\n",
    "    arrTime = env.now\n",
    "\n",
    "    if q.count < q.capacity:\n",
    "        with q.request() as req:\n",
    "            yield req # get the resource\n",
    "            yield env.timeout(serviceTime) # hold the resource for the specified time\n",
    "            # resource automatically released at end of \"with\" block\n",
    "    else:\n",
    "        stats.nBlocked += 1\n",
    "\n",
    "def erlangB(load,nServers):\n",
    "    inv = 1\n",
    "    for m in range(1,nServers+1): # range does not include the last number, so we need to add 1\n",
    "        inv = 1 + m/load * inv\n",
    "    return 1/inv\n",
    "\n",
    "if __name__ == \"__main__\":\n",
    "    lambd = 9\n",
    "    tau = 1\n",
    "\n",
    "    env = simpy.Environment()\n",
    "    stats = SimStats()\n",
    "    q = simpy.Resource(env, capacity = 10)\n",
    "    env.process(generator(env, stats, q, lambd, tau))\n",
    "    env.run(until=100_000)\n",
    "\n",
    "    print('Blocking probability:', stats.nBlocked/stats.nArrived)\n",
    "    print('Exact solution:', erlangB(lambd*tau, q.capacity))"
   ]
  },
  {
   "cell_type": "markdown",
   "id": "75f1e16d",
   "metadata": {},
   "source": [
    "# 07 - M/M/k/k vs M/D/k/k\n",
    "\n",
    "\n",
    "Because of insensitivity, the request blocking probability of the\n",
    "M/G/k/k queue, of which the M/M/k/k and M/D/k/k queues are subtypes,\n",
    "is insensitive to the shape of the service time distribution apart\n",
    "from the mean.\n",
    "\n",
    "Here, we use confidence intervals to demonstrate this for different\n",
    "arrival rates.  We will plot the results in Example 8.\n"
   ]
  },
  {
   "cell_type": "code",
   "execution_count": 13,
   "id": "544f73b6",
   "metadata": {
    "ExecuteTime": {
     "end_time": "2022-02-26T03:19:37.608154Z",
     "start_time": "2022-02-26T03:19:37.220159Z"
    }
   },
   "outputs": [
    {
     "ename": "ModuleNotFoundError",
     "evalue": "No module named 'ex04_mmkk'",
     "output_type": "error",
     "traceback": [
      "\u001b[1;31m---------------------------------------------------------------------------\u001b[0m",
      "\u001b[1;31mModuleNotFoundError\u001b[0m                       Traceback (most recent call last)",
      "\u001b[1;32m~\\AppData\\Local\\Temp/ipykernel_24300/1437486375.py\u001b[0m in \u001b[0;36m<module>\u001b[1;34m\u001b[0m\n\u001b[0;32m      1\u001b[0m \u001b[1;32mimport\u001b[0m \u001b[0msimpy\u001b[0m\u001b[1;33m\u001b[0m\u001b[1;33m\u001b[0m\u001b[0m\n\u001b[0;32m      2\u001b[0m \u001b[1;32mimport\u001b[0m \u001b[0mnumpy\u001b[0m \u001b[1;32mas\u001b[0m \u001b[0mnp\u001b[0m\u001b[1;33m\u001b[0m\u001b[1;33m\u001b[0m\u001b[0m\n\u001b[1;32m----> 3\u001b[1;33m \u001b[1;32mimport\u001b[0m \u001b[0mex04_mmkk\u001b[0m \u001b[1;32mas\u001b[0m \u001b[0mmmkk\u001b[0m\u001b[1;33m\u001b[0m\u001b[1;33m\u001b[0m\u001b[0m\n\u001b[0m\u001b[0;32m      4\u001b[0m \u001b[1;32mimport\u001b[0m \u001b[0mex06_mdkk\u001b[0m \u001b[1;32mas\u001b[0m \u001b[0mmdkk\u001b[0m\u001b[1;33m\u001b[0m\u001b[1;33m\u001b[0m\u001b[0m\n\u001b[0;32m      5\u001b[0m \u001b[1;32mfrom\u001b[0m \u001b[0mex05_confidence_intervals\u001b[0m \u001b[1;32mimport\u001b[0m \u001b[0mci\u001b[0m\u001b[1;33m\u001b[0m\u001b[1;33m\u001b[0m\u001b[0m\n",
      "\u001b[1;31mModuleNotFoundError\u001b[0m: No module named 'ex04_mmkk'"
     ]
    }
   ],
   "source": [
    "import simpy\n",
    "import numpy as np\n",
    "import ex04_mmkk as mmkk\n",
    "import ex06_mdkk as mdkk\n",
    "from ex05_confidence_intervals import ci\n",
    "\n",
    "def mean_err(ci):\n",
    "    # convert confidence interval from (min,max) to (mean,error_bound)\n",
    "    return (np.mean(ci), np.max(ci) - np.mean(ci))\n",
    "\n",
    "def sim_mmkk(lambd, tau = 1):\n",
    "    mmkk_results = np.empty(10)\n",
    "    for i in range(10):\n",
    "        mmkk_env = simpy.Environment()\n",
    "        mmkk_stats = mmkk.SimStats()\n",
    "        mmkk_q = simpy.Resource(mmkk_env, capacity = 10)\n",
    "        mmkk_env.process(mmkk.generator(mmkk_env, mmkk_stats, mmkk_q, lambd, tau))\n",
    "        mmkk_env.run(until=100_000.0/lambd)\n",
    "        mmkk_results[i] = mmkk_stats.nBlocked/mmkk_stats.nArrived\n",
    "    return mean_err(ci(mmkk_results))\n",
    "\n",
    "def sim_mdkk(lambd, tau = 1):\n",
    "    mdkk_results = np.empty(10)\n",
    "    for i in range(10):\n",
    "        mdkk_env = simpy.Environment()\n",
    "        mdkk_stats = mdkk.SimStats()\n",
    "        mdkk_q = simpy.Resource(mdkk_env, capacity = 10)\n",
    "        mdkk_env.process(mdkk.generator(mdkk_env, mdkk_stats, mdkk_q, lambd, tau))\n",
    "        mdkk_env.run(until=100_000.0/lambd)\n",
    "        mdkk_results[i] = mdkk_stats.nBlocked/mdkk_stats.nArrived\n",
    "    return mean_err(ci(mdkk_results))\n",
    "\n",
    "# lambd = 3 to 15.1 by 1 (we make the endpoint a bit bigger than 15 to ensure 15 is included in the range)\n",
    "for lambd in np.arange(3,15.1,1):\n",
    "    print(lambd, *sim_mmkk(lambd), *sim_mdkk(lambd))"
   ]
  },
  {
   "cell_type": "markdown",
   "id": "0d6cc1c1",
   "metadata": {},
   "source": [
    "# Example 08: plotting using Matplotlib\n",
    "\n",
    "\n",
    "Here we plot the results of Example 7, which shows the simulation results\n",
    "for an M/M/10/10 queue and an M/D/10/10 queue with respect to the offered load.\n",
    "For convienience, the output of Example 7 is loaded from a text file rather\n",
    "than running the simulations again.\n"
   ]
  },
  {
   "cell_type": "code",
   "execution_count": null,
   "id": "b1519eb5",
   "metadata": {
    "ExecuteTime": {
     "end_time": "2022-02-26T03:19:37.609157Z",
     "start_time": "2022-02-26T03:19:37.609157Z"
    }
   },
   "outputs": [],
   "source": [
    "import numpy as np\n",
    "import matplotlib.pyplot as plt\n",
    "\n",
    "# each column of the file is saved to a separate variable\n",
    "# when unpack = True\n",
    "x, y1, yerr1, y2, yerr2 = np.loadtxt('ex07_mmkk_mdkk.txt',unpack=True)\n",
    "\n",
    "plt.errorbar(x,y1,yerr1,fmt='b',capsize=8, label='M/M/10/10')\n",
    "plt.errorbar(x,y2,yerr2,fmt='r--',capsize=5, label='M/D/10/10')\n",
    "plt.xlabel('λ, Arrival rate', fontsize = 14) # check Unicode support\n",
    "plt.ylabel('Request blocking probability', fontsize = 14)\n",
    "plt.legend(loc='upper left')\n",
    "plt.show()"
   ]
  },
  {
   "cell_type": "code",
   "execution_count": null,
   "id": "8543adab",
   "metadata": {},
   "outputs": [],
   "source": []
  }
 ],
 "metadata": {
  "kernelspec": {
   "display_name": "Python 3 (ipykernel)",
   "language": "python",
   "name": "python3"
  },
  "language_info": {
   "codemirror_mode": {
    "name": "ipython",
    "version": 3
   },
   "file_extension": ".py",
   "mimetype": "text/x-python",
   "name": "python",
   "nbconvert_exporter": "python",
   "pygments_lexer": "ipython3",
   "version": "3.10.0"
  },
  "latex_envs": {
   "LaTeX_envs_menu_present": true,
   "autoclose": false,
   "autocomplete": true,
   "bibliofile": "biblio.bib",
   "cite_by": "apalike",
   "current_citInitial": 1,
   "eqLabelWithNumbers": true,
   "eqNumInitial": 1,
   "hotkeys": {
    "equation": "Ctrl-E",
    "itemize": "Ctrl-I"
   },
   "labels_anchors": false,
   "latex_user_defs": false,
   "report_style_numbering": false,
   "user_envs_cfg": false
  }
 },
 "nbformat": 4,
 "nbformat_minor": 5
}
